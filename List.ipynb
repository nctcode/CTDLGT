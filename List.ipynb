{
 "cells": [
  {
   "cell_type": "markdown",
   "metadata": {},
   "source": [
    "Lý thuyết:\n",
    "cú pháp [phần tử 0, phần tử 1, ... , phần tử n]\n",
    "\n",
    "- list là một kiểu dữ liệu numtable: một list có thể bị thay đổi cấu trúc, giá trị các phần tử sau \n",
    "khi khai báo\n",
    "- Danh sách (List) cũng được gọi là \"compound type\" (kiểu phức hợp). Mỗi phần tử của dánh sách \n",
    "có thể có các kiểu dữ liệu khác nhau"
   ]
  },
  {
   "cell_type": "code",
   "execution_count": 1,
   "metadata": {},
   "outputs": [],
   "source": [
    "# khai báo và khởi tạo 1 list\n",
    "numbers = [3,4,5,9,7,11]"
   ]
  },
  {
   "cell_type": "code",
   "execution_count": null,
   "metadata": {},
   "outputs": [
    {
     "data": {
      "text/plain": [
       "[5, 9]"
      ]
     },
     "execution_count": 2,
     "metadata": {},
     "output_type": "execute_result"
    }
   ],
   "source": [
    "# slice cắt một list theo chỉ mục\n",
    "numbers[2:4]"
   ]
  },
  {
   "cell_type": "code",
   "execution_count": 4,
   "metadata": {},
   "outputs": [
    {
     "data": {
      "text/plain": [
       "[11, 9, 7, 5]"
      ]
     },
     "execution_count": 4,
     "metadata": {},
     "output_type": "execute_result"
    }
   ],
   "source": [
    "# slice cắt một list theo chỉ mục\n",
    "numbers[:4]"
   ]
  },
  {
   "cell_type": "code",
   "execution_count": 5,
   "metadata": {},
   "outputs": [
    {
     "data": {
      "text/plain": [
       "11"
      ]
     },
     "execution_count": 5,
     "metadata": {},
     "output_type": "execute_result"
    }
   ],
   "source": [
    "# lấy phần tử đầu\n",
    "numbers[0]"
   ]
  },
  {
   "cell_type": "code",
   "execution_count": 10,
   "metadata": {},
   "outputs": [
    {
     "data": {
      "text/plain": [
       "3"
      ]
     },
     "execution_count": 10,
     "metadata": {},
     "output_type": "execute_result"
    }
   ],
   "source": [
    "# lấy phần tử cuối của list\n",
    "numbers[-1]"
   ]
  },
  {
   "cell_type": "code",
   "execution_count": null,
   "metadata": {},
   "outputs": [
    {
     "data": {
      "text/plain": [
       "[9, 7, 11]"
      ]
     },
     "execution_count": 6,
     "metadata": {},
     "output_type": "execute_result"
    }
   ],
   "source": [
    "# lấy 3 phần tử cuối của list\n",
    "numbers[-3:]"
   ]
  },
  {
   "cell_type": "code",
   "execution_count": null,
   "metadata": {},
   "outputs": [
    {
     "data": {
      "text/plain": [
       "[3, 4, 5, 9, 7]"
      ]
     },
     "execution_count": 7,
     "metadata": {},
     "output_type": "execute_result"
    }
   ],
   "source": [
    "# lấy phần tử đầu danh sách đến cuối danh sahcs\n",
    "numbers[:-1]"
   ]
  },
  {
   "cell_type": "code",
   "execution_count": null,
   "metadata": {},
   "outputs": [
    {
     "data": {
      "text/plain": [
       "6"
      ]
     },
     "execution_count": 8,
     "metadata": {},
     "output_type": "execute_result"
    }
   ],
   "source": [
    "# lấy chiều dài danh sách\n",
    "len(numbers)"
   ]
  },
  {
   "cell_type": "code",
   "execution_count": null,
   "metadata": {},
   "outputs": [
    {
     "name": "stdout",
     "output_type": "stream",
     "text": [
      "[11, 7, 9, 5, 4, 3]\n"
     ]
    }
   ],
   "source": [
    "# đảo ngược danh sách\n",
    "numbers.reverse()\n",
    "print(numbers)"
   ]
  },
  {
   "cell_type": "code",
   "execution_count": 2,
   "metadata": {},
   "outputs": [
    {
     "name": "stdout",
     "output_type": "stream",
     "text": [
      "[11, 9, 7, 5, 4, 3]\n"
     ]
    }
   ],
   "source": [
    "# sắp xếp giảm\n",
    "numbers.sort(reverse=True)\n",
    "print(numbers)   "
   ]
  },
  {
   "cell_type": "code",
   "execution_count": null,
   "metadata": {},
   "outputs": [
    {
     "name": "stdout",
     "output_type": "stream",
     "text": [
      "['A', 'B', 11, 9, 7, 5, 4, 3]\n"
     ]
    }
   ],
   "source": [
    "# nối danh sách\n",
    "chu_cai = ['A','B']\n",
    "alpha_num = chu_cai + numbers\n",
    "print(alpha_num)"
   ]
  },
  {
   "cell_type": "code",
   "execution_count": null,
   "metadata": {},
   "outputs": [
    {
     "name": "stdout",
     "output_type": "stream",
     "text": [
      "['A', 'B', 11, 9, 7, 5, 4, 3, 'E']\n"
     ]
    }
   ],
   "source": [
    "# bổ sung vào cuối danh sách\n",
    "alpha_num.append('E')\n",
    "print(alpha_num)"
   ]
  },
  {
   "cell_type": "code",
   "execution_count": null,
   "metadata": {},
   "outputs": [
    {
     "name": "stdout",
     "output_type": "stream",
     "text": [
      "['A', 'B', 11, 9, 7, 5, 4, 3, 'E', 'F', 11]\n"
     ]
    }
   ],
   "source": [
    "# nối danh sach dùng extend\n",
    "alpha_num.extend(['F',11])\n",
    "print(alpha_num)"
   ]
  },
  {
   "cell_type": "code",
   "execution_count": null,
   "metadata": {},
   "outputs": [
    {
     "data": {
      "text/plain": [
       "2"
      ]
     },
     "execution_count": 16,
     "metadata": {},
     "output_type": "execute_result"
    }
   ],
   "source": [
    "# đếm số lần xuất hiện của phần tử\n",
    "alpha_num.count(11)"
   ]
  },
  {
   "cell_type": "code",
   "execution_count": null,
   "metadata": {},
   "outputs": [
    {
     "name": "stdout",
     "output_type": "stream",
     "text": [
      "['A', 'B', 9, 7, 5, 4, 3, 'E', 'F', 11]\n"
     ]
    }
   ],
   "source": [
    "# nếu phần tử cần loại bỏ không có\n",
    "# thì sẽ phát sinh ngoại lệ (lỗi)\n",
    "alpha_num.remove(11)\n",
    "print(alpha_num)"
   ]
  },
  {
   "cell_type": "code",
   "execution_count": null,
   "metadata": {},
   "outputs": [
    {
     "name": "stdout",
     "output_type": "stream",
     "text": [
      "['A', 'B', 9, 7, 5, 4, 3, 'E', 'F']\n"
     ]
    }
   ],
   "source": [
    "# lấy và xoá luôn phần tử cuối trong danh sách\n",
    "alpha_num.pop()\n",
    "print(alpha_num)"
   ]
  },
  {
   "cell_type": "code",
   "execution_count": 1,
   "metadata": {},
   "outputs": [
    {
     "ename": "NameError",
     "evalue": "name 'alpha_num' is not defined",
     "output_type": "error",
     "traceback": [
      "\u001b[1;31m---------------------------------------------------------------------------\u001b[0m",
      "\u001b[1;31mNameError\u001b[0m                                 Traceback (most recent call last)",
      "Cell \u001b[1;32mIn[1], line 2\u001b[0m\n\u001b[0;32m      1\u001b[0m \u001b[38;5;66;03m# chèn vào một vị trí\u001b[39;00m\n\u001b[1;32m----> 2\u001b[0m \u001b[43malpha_num\u001b[49m\u001b[38;5;241m.\u001b[39minsert(\u001b[38;5;241m-\u001b[39m\u001b[38;5;241m1\u001b[39m, \u001b[38;5;241m15\u001b[39m)\n\u001b[0;32m      3\u001b[0m \u001b[38;5;28mprint\u001b[39m(alpha_num)\n",
      "\u001b[1;31mNameError\u001b[0m: name 'alpha_num' is not defined"
     ]
    }
   ],
   "source": [
    "# chèn vào một vị trí\n",
    "alpha_num.insert(-1, 15)\n",
    "print(alpha_num)"
   ]
  },
  {
   "cell_type": "code",
   "execution_count": null,
   "metadata": {},
   "outputs": [
    {
     "name": "stdout",
     "output_type": "stream",
     "text": [
      "['A', 'B', 9, 7, 5, 4, 3, 'E', 15, 'F', 'Hiền']\n"
     ]
    }
   ],
   "source": [
    "# chèn vào cuối dãy\n",
    "alpha_num.insert(len(alpha_num),'Hiền')\n",
    "print(alpha_num)"
   ]
  },
  {
   "cell_type": "code",
   "execution_count": null,
   "metadata": {},
   "outputs": [],
   "source": [
    "# danh sách rỗng\n",
    "a = []\n"
   ]
  },
  {
   "cell_type": "code",
   "execution_count": null,
   "metadata": {},
   "outputs": [
    {
     "data": {
      "text/plain": [
       "[200, 200, 200, 200, 200]"
      ]
     },
     "execution_count": 22,
     "metadata": {},
     "output_type": "execute_result"
    }
   ],
   "source": [
    "# khởi tạo một danh sách gồm 5 phần tử giống hệt nhau \n",
    "a = [200] * 5\n",
    "a"
   ]
  },
  {
   "cell_type": "code",
   "execution_count": null,
   "metadata": {},
   "outputs": [
    {
     "data": {
      "text/plain": [
       "[1, 3, 5, 7, 9, 11]"
      ]
     },
     "execution_count": 23,
     "metadata": {},
     "output_type": "execute_result"
    }
   ],
   "source": [
    "# tạo một danh sách gồm các số nguyên bắt đầu bằng 1 và bé hơn 12, mỗi phần tử\n",
    "# cách nhau 2 đơn vi\n",
    "a = [x for x in range(1, 12, 2)]\n",
    "a\n"
   ]
  },
  {
   "cell_type": "code",
   "execution_count": null,
   "metadata": {},
   "outputs": [
    {
     "name": "stdout",
     "output_type": "stream",
     "text": [
      "[1, 2, 3, ['a', 'b', 'c']]\n"
     ]
    }
   ],
   "source": [
    "# danh sách bao gồm danh sách\n",
    "chu = ['a','b','c']\n",
    "ds = [1,2,3,chu]\n",
    "print(ds)"
   ]
  },
  {
   "cell_type": "code",
   "execution_count": null,
   "metadata": {},
   "outputs": [
    {
     "data": {
      "text/plain": [
       "[1, 2, 3, ['a', 'b', 'c1']]"
      ]
     },
     "execution_count": 31,
     "metadata": {},
     "output_type": "execute_result"
    }
   ],
   "source": [
    "# sao chép nóng (shadow copy)\n",
    "ds_copy = ds.copy()\n",
    "ds_copy"
   ]
  },
  {
   "cell_type": "code",
   "execution_count": null,
   "metadata": {},
   "outputs": [
    {
     "data": {
      "text/plain": [
       "[1, 2, 3, ['a', 'b', 'c1']]"
      ]
     },
     "execution_count": 32,
     "metadata": {},
     "output_type": "execute_result"
    }
   ],
   "source": [
    "# sao chép sâu (deep copy)\n",
    "import copy\n",
    "ds_dcopy = copy.deepcopy(ds)\n",
    "ds_dcopy"
   ]
  },
  {
   "cell_type": "code",
   "execution_count": null,
   "metadata": {},
   "outputs": [
    {
     "name": "stdout",
     "output_type": "stream",
     "text": [
      "['a', 'b', 'c1']\n"
     ]
    }
   ],
   "source": [
    "# thay đổi nội dung danh sách con 'chu'\n",
    "chu[-1] = 'c1'\n",
    "print(chu)"
   ]
  },
  {
   "cell_type": "code",
   "execution_count": null,
   "metadata": {},
   "outputs": [
    {
     "name": "stdout",
     "output_type": "stream",
     "text": [
      "[1, 2, 3, ['a', 'b', 'c1']]\n",
      "[1, 2, 3, ['a', 'b', 'c1']]\n"
     ]
    }
   ],
   "source": [
    "# kiếm tra xem biến ds và ds_copy có thay đổi không\n",
    "print(ds)\n",
    "print(ds_copy)"
   ]
  },
  {
   "cell_type": "code",
   "execution_count": null,
   "metadata": {},
   "outputs": [
    {
     "name": "stdout",
     "output_type": "stream",
     "text": [
      "[1, 2, 3, ['a', 'b', 'c1']]\n"
     ]
    }
   ],
   "source": [
    "print(ds_dcopy)"
   ]
  },
  {
   "cell_type": "code",
   "execution_count": null,
   "metadata": {},
   "outputs": [
    {
     "data": {
      "text/plain": [
       "[['a', 'b', 'c'], [1, 3, 5]]"
      ]
     },
     "execution_count": 35,
     "metadata": {},
     "output_type": "execute_result"
    }
   ],
   "source": [
    "# truy cập phần tử của danh sách con\n",
    "ds_con1 = ['a','b','c']\n",
    "ds_con2 = [1,3,5]\n",
    "ds = [ds_con1, ds_con2]\n",
    "ds"
   ]
  },
  {
   "cell_type": "code",
   "execution_count": null,
   "metadata": {},
   "outputs": [
    {
     "name": "stdout",
     "output_type": "stream",
     "text": [
      "c\n",
      "5\n"
     ]
    }
   ],
   "source": [
    "print(ds[0][-1])\n",
    "print(ds[1][2])"
   ]
  }
 ],
 "metadata": {
  "kernelspec": {
   "display_name": "Python 3",
   "language": "python",
   "name": "python3"
  },
  "language_info": {
   "codemirror_mode": {
    "name": "ipython",
    "version": 3
   },
   "file_extension": ".py",
   "mimetype": "text/x-python",
   "name": "python",
   "nbconvert_exporter": "python",
   "pygments_lexer": "ipython3",
   "version": "3.11.0"
  }
 },
 "nbformat": 4,
 "nbformat_minor": 2
}
