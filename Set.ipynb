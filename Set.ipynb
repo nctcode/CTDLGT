{
 "cells": [
  {
   "cell_type": "markdown",
   "metadata": {},
   "source": [
    "Cú pháp\n",
    "set(phần tử 0, phần tử 1, ..., phần tử n)\n",
    "\n",
    "- Các phần tử trong tập hợp là duy nhất, không trùng lặp, và không có trật tự. Tập hợp không có chỉ mục\n",
    "\n",
    "- Nếu áp dụng các thao tác về tập hợp (set) trên các đối tượng mảng (array), list .. -> có thể mất trật tự của các phần tử trong đối tượng lâu dài"
   ]
  },
  {
   "cell_type": "code",
   "execution_count": 1,
   "metadata": {},
   "outputs": [
    {
     "data": {
      "text/plain": [
       "set()"
      ]
     },
     "execution_count": 1,
     "metadata": {},
     "output_type": "execute_result"
    }
   ],
   "source": [
    "# định nghĩa tập rỗng\n",
    "empty_set = set()\n",
    "empty_set"
   ]
  },
  {
   "cell_type": "code",
   "execution_count": 3,
   "metadata": {},
   "outputs": [
    {
     "name": "stdout",
     "output_type": "stream",
     "text": [
      "{'b', 'c', 'a'}\n",
      "<class 'set'>\n"
     ]
    }
   ],
   "source": [
    "# định nghĩa một tập gồm 3 phần tử\n",
    "s1 = {'a','b','c'}\n",
    "print(s1)\n",
    "print(type(s1))"
   ]
  },
  {
   "cell_type": "code",
   "execution_count": 5,
   "metadata": {},
   "outputs": [
    {
     "name": "stdout",
     "output_type": "stream",
     "text": [
      "True\n",
      "False\n"
     ]
    }
   ],
   "source": [
    "# kiểm tra một phần tử thuộc 1 tập hợp\n",
    "print('a' in s1)\n",
    "print(1 in s1)"
   ]
  },
  {
   "cell_type": "code",
   "execution_count": 6,
   "metadata": {},
   "outputs": [
    {
     "data": {
      "text/plain": [
       "{'b', 'c', 'd'}"
      ]
     },
     "execution_count": 6,
     "metadata": {},
     "output_type": "execute_result"
    }
   ],
   "source": [
    "# chuyển một danh sách thành 1 tập hợp\n",
    "s2 = set(['b','c','d'])\n",
    "s2"
   ]
  },
  {
   "cell_type": "code",
   "execution_count": 11,
   "metadata": {},
   "outputs": [
    {
     "name": "stdout",
     "output_type": "stream",
     "text": [
      "{'b', 'c', 'a'}\n",
      "{'b', 'c', 'd'}\n",
      "Intersection: {'b', 'c'}\n"
     ]
    }
   ],
   "source": [
    "# lấy giao (intersection)\n",
    "print(s1)\n",
    "print(s2)\n",
    "print('Intersection:',s1.intersection(s2))\n"
   ]
  },
  {
   "cell_type": "code",
   "execution_count": 10,
   "metadata": {},
   "outputs": [
    {
     "name": "stdout",
     "output_type": "stream",
     "text": [
      "{'b', 'c', 'a'}\n",
      "{'b', 'c', 'd'}\n",
      "Union {'c', 'a', 'b', 'd'}\n"
     ]
    }
   ],
   "source": [
    "# lấy hợp (union)\n",
    "print(s1)\n",
    "print(s2)\n",
    "print('Union:',s1.union(s2))\n"
   ]
  },
  {
   "cell_type": "code",
   "execution_count": 12,
   "metadata": {},
   "outputs": [
    {
     "data": {
      "text/plain": [
       "{'a'}"
      ]
     },
     "execution_count": 12,
     "metadata": {},
     "output_type": "execute_result"
    }
   ],
   "source": [
    "# lấy phần tử nằm trong s1 mà không có trong s2\n",
    "s1 - s2"
   ]
  },
  {
   "cell_type": "code",
   "execution_count": 13,
   "metadata": {},
   "outputs": [
    {
     "data": {
      "text/plain": [
       "{'d'}"
      ]
     },
     "execution_count": 13,
     "metadata": {},
     "output_type": "execute_result"
    }
   ],
   "source": [
    "# lấy phần tử nằm trong s2 mà không có trong s1\n",
    "s2-s1"
   ]
  },
  {
   "cell_type": "code",
   "execution_count": 14,
   "metadata": {},
   "outputs": [
    {
     "data": {
      "text/plain": [
       "{'a', 'd'}"
      ]
     },
     "execution_count": 14,
     "metadata": {},
     "output_type": "execute_result"
    }
   ],
   "source": [
    "# lấy phần tử thuộc s1, thuộc s2 nhưng không phải phần tử chung của s1, s2\n",
    "s1^s2"
   ]
  },
  {
   "cell_type": "code",
   "execution_count": 15,
   "metadata": {},
   "outputs": [
    {
     "data": {
      "text/plain": [
       "{0, 2, 4}"
      ]
     },
     "execution_count": 15,
     "metadata": {},
     "output_type": "execute_result"
    }
   ],
   "source": [
    "# set comprehensions\n",
    "s3 = {x for x in range(5) if x % 2 == 0}\n",
    "s3"
   ]
  }
 ],
 "metadata": {
  "kernelspec": {
   "display_name": "Python 3",
   "language": "python",
   "name": "python3"
  },
  "language_info": {
   "codemirror_mode": {
    "name": "ipython",
    "version": 3
   },
   "file_extension": ".py",
   "mimetype": "text/x-python",
   "name": "python",
   "nbconvert_exporter": "python",
   "pygments_lexer": "ipython3",
   "version": "3.12.0"
  }
 },
 "nbformat": 4,
 "nbformat_minor": 2
}
